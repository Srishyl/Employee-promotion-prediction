{
  "nbformat": 4,
  "nbformat_minor": 0,
  "metadata": {
    "colab": {
      "provenance": [],
      "authorship_tag": "ABX9TyO2vYLMg+HrxM/Lld2JL/mf",
      "include_colab_link": true
    },
    "kernelspec": {
      "name": "python3",
      "display_name": "Python 3"
    },
    "language_info": {
      "name": "python"
    }
  },
  "cells": [
    {
      "cell_type": "markdown",
      "metadata": {
        "id": "view-in-github",
        "colab_type": "text"
      },
      "source": [
        "<a href=\"https://colab.research.google.com/github/Srishyl/Employee-promotion-prediction/blob/main/employee_prediction.ipynb\" target=\"_parent\"><img src=\"https://colab.research.google.com/assets/colab-badge.svg\" alt=\"Open In Colab\"/></a>"
      ]
    },
    {
      "cell_type": "code",
      "execution_count": 1,
      "metadata": {
        "colab": {
          "base_uri": "https://localhost:8080/",
          "height": 694
        },
        "id": "fotDXV4EzSNw",
        "outputId": "f0439d8c-942e-4280-dd79-a7b955d9103f"
      },
      "outputs": [
        {
          "output_type": "stream",
          "name": "stdout",
          "text": [
            "Accuracy: 0.95\n"
          ]
        },
        {
          "output_type": "stream",
          "name": "stderr",
          "text": [
            "/usr/local/lib/python3.12/dist-packages/gradio/chat_interface.py:348: UserWarning: The 'tuples' format for chatbot messages is deprecated and will be removed in a future version of Gradio. Please set type='messages' instead, which uses openai-style 'role' and 'content' keys.\n",
            "  self.chatbot = Chatbot(\n"
          ]
        },
        {
          "output_type": "stream",
          "name": "stdout",
          "text": [
            "It looks like you are running Gradio on a hosted Jupyter notebook, which requires `share=True`. Automatically setting `share=True` (you can turn this off by setting `share=False` in `launch()` explicitly).\n",
            "\n",
            "Colab notebook detected. To show errors in colab notebook, set debug=True in launch()\n",
            "* Running on public URL: https://ff70f8e2f59e07e5e9.gradio.live\n",
            "\n",
            "This share link expires in 1 week. For free permanent hosting and GPU upgrades, run `gradio deploy` from the terminal in the working directory to deploy to Hugging Face Spaces (https://huggingface.co/spaces)\n"
          ]
        },
        {
          "output_type": "display_data",
          "data": {
            "text/plain": [
              "<IPython.core.display.HTML object>"
            ],
            "text/html": [
              "<div><iframe src=\"https://ff70f8e2f59e07e5e9.gradio.live\" width=\"100%\" height=\"500\" allow=\"autoplay; camera; microphone; clipboard-read; clipboard-write;\" frameborder=\"0\" allowfullscreen></iframe></div>"
            ]
          },
          "metadata": {}
        }
      ],
      "source": [
        "import pandas as pd\n",
        "import numpy as np\n",
        "import gradio as gr\n",
        "import datetime\n",
        "from sklearn.model_selection import train_test_split\n",
        "from sklearn.preprocessing import StandardScaler, LabelEncoder\n",
        "from sklearn.ensemble import RandomForestClassifier\n",
        "from sklearn.metrics import accuracy_score\n",
        "import joblib\n",
        "import re\n",
        "\n",
        "# ----------------------------\n",
        "# Load dataset\n",
        "# ----------------------------\n",
        "df = pd.read_csv(\"/content/employee_promotions.csv\")  # change path\n",
        "\n",
        "# ----------------------------\n",
        "# Preprocess dataset\n",
        "# ----------------------------\n",
        "df[\"promoted\"] = df[\"promoted\"].astype(str).str.strip().str.lower()\n",
        "df[\"promoted\"] = df[\"promoted\"].map({\"yes\": 1, \"no\": 0})\n",
        "\n",
        "df[\"date_of_birth\"] = pd.to_datetime(df[\"date_of_birth\"], errors=\"coerce\", dayfirst=True)\n",
        "df[\"date_of_joining\"] = pd.to_datetime(df[\"date_of_joining\"], errors=\"coerce\", dayfirst=True)\n",
        "\n",
        "today = pd.to_datetime(\"today\")\n",
        "df[\"age\"] = today.year - df[\"date_of_birth\"].dt.year\n",
        "df[\"years_at_company\"] = today.year - df[\"date_of_joining\"].dt.year\n",
        "\n",
        "le_gender = LabelEncoder()\n",
        "df[\"gender\"] = le_gender.fit_transform(df[\"gender\"].astype(str))\n",
        "\n",
        "X = df[[\"age\", \"years_at_company\", \"gender\"]]\n",
        "y = df[\"promoted\"]\n",
        "\n",
        "X_train, X_test, y_train, y_test = train_test_split(X, y, test_size=0.2, random_state=42, stratify=y)\n",
        "\n",
        "scaler = StandardScaler()\n",
        "X_train_scaled = scaler.fit_transform(X_train)\n",
        "X_test_scaled = scaler.transform(X_test)\n",
        "\n",
        "model = RandomForestClassifier(n_estimators=200, random_state=42)\n",
        "model.fit(X_train_scaled, y_train)\n",
        "\n",
        "print(\"Accuracy:\", accuracy_score(y_test, model.predict(X_test_scaled)))\n",
        "\n",
        "joblib.dump((model, scaler, le_gender), \"promotion_model.pkl\")\n",
        "\n",
        "# ----------------------------\n",
        "# Chatbot prediction function\n",
        "# ----------------------------\n",
        "def chatbot(message, history):\n",
        "    model, scaler, le_gender = joblib.load(\"promotion_model.pkl\")\n",
        "\n",
        "    # Extract DOB, DOJ, Gender from user message\n",
        "    dob_match = re.search(r\"dob\\s*[:\\-]?\\s*(\\d{2}-\\d{2}-\\d{4})\", message, re.I)\n",
        "    doj_match = re.search(r\"doj\\s*[:\\-]?\\s*(\\d{2}-\\d{2}-\\d{4})\", message, re.I)\n",
        "    gender_match = re.search(r\"(male|female)\", message, re.I)\n",
        "\n",
        "    if not dob_match or not doj_match or not gender_match:\n",
        "        return \"❗ Please provide details in format: 'DOB: DD-MM-YYYY, DOJ: DD-MM-YYYY, Gender: male/female'\"\n",
        "\n",
        "    dob = pd.to_datetime(dob_match.group(1), errors=\"coerce\", dayfirst=True)\n",
        "    doj = pd.to_datetime(doj_match.group(1), errors=\"coerce\", dayfirst=True)\n",
        "    gender = gender_match.group(1).lower()\n",
        "\n",
        "    today = pd.to_datetime(\"today\")\n",
        "    age = today.year - dob.year\n",
        "    years_at_company = today.year - doj.year\n",
        "    gender_val = le_gender.transform([gender])[0]\n",
        "\n",
        "    input_data = np.array([[age, years_at_company, gender_val]])\n",
        "    input_scaled = scaler.transform(input_data)\n",
        "\n",
        "    pred = model.predict(input_scaled)[0]\n",
        "    prob = model.predict_proba(input_scaled)[0][1]\n",
        "\n",
        "    return f\"✅ Promotion Prediction: {'Yes 🎉' if pred==1 else 'No ❌'}\\n📊 Probability: {prob:.2%}\"\n",
        "\n",
        "# ----------------------------\n",
        "# Gradio ChatInterface\n",
        "# ----------------------------\n",
        "chatbot_ui = gr.ChatInterface(\n",
        "    fn=chatbot,\n",
        "    title=\"👔 Employee Promotion Chatbot\",\n",
        "    description=\"Ask me about promotion chances.\\nExample: 'DOB: 01-03-1988, DOJ: 01-01-2020, Gender: female'\"\n",
        ")\n",
        "\n",
        "if __name__ == \"__main__\":\n",
        "    chatbot_ui.launch()\n"
      ]
    },
    {
      "cell_type": "code",
      "source": [
        "import pandas as pd\n",
        "import numpy as np\n",
        "import gradio as gr\n",
        "import datetime\n",
        "from sklearn.model_selection import train_test_split\n",
        "from sklearn.preprocessing import StandardScaler, LabelEncoder\n",
        "from sklearn.ensemble import RandomForestClassifier\n",
        "import joblib\n",
        "import re\n",
        "\n",
        "\n",
        "df = pd.read_csv(\"/content/employee_promotions.csv\")\n",
        "\n",
        "\n",
        "df[\"promoted\"] = df[\"promoted\"].astype(str).str.strip().str.lower()\n",
        "df[\"promoted\"] = df[\"promoted\"].map({\"yes\": 1, \"no\": 0})\n",
        "\n",
        "df[\"date_of_birth\"] = pd.to_datetime(df[\"date_of_birth\"], errors=\"coerce\", dayfirst=True)\n",
        "df[\"date_of_joining\"] = pd.to_datetime(df[\"date_of_joining\"], errors=\"coerce\", dayfirst=True)\n",
        "\n",
        "today = pd.to_datetime(\"today\")\n",
        "df[\"age\"] = today.year - df[\"date_of_birth\"].dt.year\n",
        "df[\"years_at_company\"] = today.year - df[\"date_of_joining\"].dt.year\n",
        "\n",
        "le_gender = LabelEncoder()\n",
        "df[\"gender\"] = le_gender.fit_transform(df[\"gender\"].astype(str))\n",
        "\n",
        "X = df[[\"age\", \"years_at_company\", \"gender\"]]\n",
        "y = df[\"promoted\"]\n",
        "\n",
        "X_train, X_test, y_train, y_test = train_test_split(X, y, test_size=0.2, random_state=42, stratify=y)\n",
        "\n",
        "scaler = StandardScaler()\n",
        "X_train_scaled = scaler.fit_transform(X_train)\n",
        "X_test_scaled = scaler.transform(X_test)\n",
        "\n",
        "model = RandomForestClassifier(n_estimators=200, random_state=42)\n",
        "model.fit(X_train_scaled, y_train)\n",
        "\n",
        "joblib.dump((model, scaler, le_gender), \"promotion_model.pkl\")\n",
        "\n",
        "\n",
        "def predict_promotion(text):\n",
        "    model, scaler, le_gender = joblib.load(\"promotion_model.pkl\")\n",
        "\n",
        "    dob_match = re.search(r\"dob\\s*[:\\-]?\\s*(\\d{2}-\\d{2}-\\d{4})\", text, re.I)\n",
        "    doj_match = re.search(r\"doj\\s*[:\\-]?\\s*(\\d{2}-\\d{2}-\\d{4})\", text, re.I)\n",
        "    gender_match = re.search(r\"(male|female)\", text, re.I)\n",
        "\n",
        "    if not dob_match or not doj_match or not gender_match:\n",
        "        return \"❗ Please enter details as: DOB: DD-MM-YYYY, DOJ: DD-MM-YYYY, Gender: male/female\"\n",
        "\n",
        "    dob = pd.to_datetime(dob_match.group(1), errors=\"coerce\", dayfirst=True)\n",
        "    doj = pd.to_datetime(doj_match.group(1), errors=\"coerce\", dayfirst=True)\n",
        "    gender = gender_match.group(1).lower()\n",
        "\n",
        "    today = pd.to_datetime(\"today\")\n",
        "    age = today.year - dob.year\n",
        "    years_at_company = today.year - doj.year\n",
        "    gender_val = le_gender.transform([gender])[0]\n",
        "\n",
        "    input_data = np.array([[age, years_at_company, gender_val]])\n",
        "    input_scaled = scaler.transform(input_data)\n",
        "\n",
        "    pred = model.predict(input_scaled)[0]\n",
        "    return \"✅ Promoted: Yes 🎉\" if pred == 1 else \"❌ Promoted: No\"\n",
        "\n",
        "\n",
        "demo = gr.Interface(\n",
        "    fn=predict_promotion,\n",
        "    inputs=gr.Textbox(label=\"Enter Employee Details\", placeholder=\"Example: DOB: 01-03-1988, DOJ: 01-01-2020, Gender: female\"),\n",
        "    outputs=\"text\",\n",
        "    title=\"👔 Employee Promotion Predictor\"\n",
        ")\n",
        "\n",
        "if __name__ == \"__main__\":\n",
        "    demo.launch()\n"
      ],
      "metadata": {
        "colab": {
          "base_uri": "https://localhost:8080/",
          "height": 643
        },
        "id": "uJ18PJ8OzfTu",
        "outputId": "4c8f2e4a-64ad-49d9-840a-14f76f964f6d"
      },
      "execution_count": 2,
      "outputs": [
        {
          "output_type": "stream",
          "name": "stdout",
          "text": [
            "It looks like you are running Gradio on a hosted Jupyter notebook, which requires `share=True`. Automatically setting `share=True` (you can turn this off by setting `share=False` in `launch()` explicitly).\n",
            "\n",
            "Colab notebook detected. To show errors in colab notebook, set debug=True in launch()\n",
            "* Running on public URL: https://96075db2e7a66450d3.gradio.live\n",
            "\n",
            "This share link expires in 1 week. For free permanent hosting and GPU upgrades, run `gradio deploy` from the terminal in the working directory to deploy to Hugging Face Spaces (https://huggingface.co/spaces)\n"
          ]
        },
        {
          "output_type": "display_data",
          "data": {
            "text/plain": [
              "<IPython.core.display.HTML object>"
            ],
            "text/html": [
              "<div><iframe src=\"https://96075db2e7a66450d3.gradio.live\" width=\"100%\" height=\"500\" allow=\"autoplay; camera; microphone; clipboard-read; clipboard-write;\" frameborder=\"0\" allowfullscreen></iframe></div>"
            ]
          },
          "metadata": {}
        }
      ]
    },
    {
      "cell_type": "code",
      "source": [],
      "metadata": {
        "id": "ZjBm64qg07XC"
      },
      "execution_count": null,
      "outputs": []
    }
  ]
}